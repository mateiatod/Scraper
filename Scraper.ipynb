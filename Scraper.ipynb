{
 "cells": [
  {
   "cell_type": "markdown",
   "id": "342e6665",
   "metadata": {},
   "source": [
    "Libraries"
   ]
  },
  {
   "cell_type": "code",
   "execution_count": 1,
   "id": "c3f6e814",
   "metadata": {},
   "outputs": [],
   "source": [
    "from selenium import webdriver\n",
    "from selenium.webdriver.common.by import By\n",
    "from selenium.webdriver.support.ui import WebDriverWait\n",
    "from selenium.webdriver.support import expected_conditions as EC\n",
    "import time"
   ]
  },
  {
   "cell_type": "markdown",
   "id": "d7220e83",
   "metadata": {},
   "source": [
    "Find all the Chapters"
   ]
  },
  {
   "cell_type": "code",
   "execution_count": 2,
   "id": "1178b6e6",
   "metadata": {},
   "outputs": [],
   "source": [
    "# Initialize the WebDriver (e.g., for Chrome)\n",
    "driver = webdriver.Chrome()\n",
    "\n",
    "# Open the target URL\n",
    "url = 'https://codes.iccsafe.org/content/WAFC2021P1?p=/content/WAFC2021P1/'\n",
    "driver.get(url)\n",
    "\n",
    "# Wait for the page to load if necessary\n",
    "time.sleep(10)\n",
    "\n",
    "# Find all <a> elements with the specified class\n",
    "a_elements = driver.find_elements(By.CLASS_NAME, 'mb-0.py-2.body-2')\n",
    "\n",
    "# Extract and print the text from each element\n",
    "text_list = [a.text for a in a_elements]\n",
    "\n",
    "# Close the WebDriver\n",
    "driver.quit()"
   ]
  },
  {
   "cell_type": "code",
   "execution_count": 3,
   "id": "bd524289",
   "metadata": {},
   "outputs": [
    {
     "name": "stdout",
     "output_type": "stream",
     "text": [
      "['Copyright', 'Preface', 'Arrangement and Format of the 2021 IFC', 'Part I —Administrative', 'Chapter 1 Scope and Administration', 'Chapter 2 Definitions', 'Part II —General Safety Provisions', 'Chapter 3 General Requirements', 'Chapter 4 Emergency Planning and Preparedness', 'Part III —Building and Equipment Design Features', 'Chapter 5 Fire Service Features', 'Chapter 6 Building Services and Systems', 'Chapter 7 Fire and Smoke Protection Features', 'Chapter 8 Interior Finish, Decorative Materials and Furnishings', 'Chapter 9 Fire Protection and Life Safety Systems', 'Chapter 10 Means of Egress', 'Chapter 11 Construction Requirements for Existing Buildings', 'Chapter 12 Energy Systems', 'Chapters 13 Through 19 Reserved', 'Part IV —Special Occupancies and Operations', 'Chapter 20 Aviation Facilities', 'Chapter 21 Dry Cleaning', 'Chapter 22 Combustible Dust-Producing Operations', 'Chapter 23 Motor Fuel-Dispensing Facilities and Repair Garages', 'Chapter 24 Flammable Finishes', 'Chapter 25 Fruit and Crop Ripening', 'Chapter 26 Fumigation and Insecticidal Fogging', 'Chapter 27 Semiconductor Fabrication Facilities', 'Chapter 28 Lumber Yards and Agro-Industrial, Solid Biomass and Woodworking Facilities', 'Chapter 29 Manufacture of Organic Coatings', 'Chapter 30 Industrial Ovens', 'Chapter 31 Tents, Temporary Special Event Structures and Other Membrane Structures', 'Chapter 32 High-Piled Combustible Storage', 'Chapter 33 Fire Safety During Construction and Demolition', 'Chapter 34 Tire Rebuilding and Tire Storage', 'Chapter 35 Welding and Other Hot Work', 'Chapter 36 Marinas', 'Chapter 37 Combustible Fibers', 'Chapter 38 Higher Education Laboratories', 'Chapter 39 Processing and Extraction Facilities', 'Chapter 40 Storage of Distilled Spirits and Wines', 'Chapters 41 Through 48 Reserved', 'Chapter 49 Fixed Guideway Transit and Passenger Rail Systems', 'Part V —Hazardous Materials', 'Chapter 50 Hazardous Materials—General Provisions', 'Chapter 51 Aerosols', 'Chapter 52 Reserved', 'Chapter 53 Compressed Gases', 'Chapter 54 Corrosive Materials', 'Chapter 55 Cryogenic Fluids', 'Chapter 56 Explosives and Fireworks', 'Chapter 57 Flammable and Combustible Liquids', 'Chapter 58 Flammable Gases and Flammable Cryogenic Fluids', 'Chapter 59 Flammable Solids', 'Chapter 60 Highly Toxic and Toxic Materials', 'Chapter 61 Liquefied Petroleum Gases', 'Chapter 62 Organic Peroxides', 'Chapter 63 Oxidizers, Oxidizing Gases and Oxidizing Cryogenic Fluids', 'Chapter 64 Pyrophoric Materials', 'Chapter 65 Pyroxylin (Cellulose Nitrate) Plastics', 'Chapter 66 Unstable (Reactive) Materials', 'Chapter 67 Water-Reactive Solids and Liquids', 'Chapters 68 Through 79 Reserved', 'Part VI —Referenced Standards', 'Chapter 80 Referenced Standards', 'Part VII —Appendices', 'Appendix A Board of Appeals', 'Appendix B Fire-Flow Requirements for Buildings', 'Appendix C Fire Hydrant Locations and Distribution', 'Appendix D Fire Apparatus Access Roads', 'Appendix E Hazard Categories', 'Appendix F Hazard Ranking', 'Appendix G Cryogenic Fluids—Weight and Volume Equivalents', 'Appendix H Hazardous Materials Management Plan (Hmmp) and Hazardous Materials Inventory Statement (Hmis) Instructions', 'Appendix I Fire Protection Systems—Noncompliant Conditions', 'Appendix J Building Information Sign', 'Appendix K Construction Requirements Forexisting Ambulatory Care Facilities', 'Appendix L Requirements for Fire Fighterair Replenishment Systems', 'Appendix M High-Rise Buildings—Retroactive Automatic Sprinkler Requirement', 'Appendix N Indoor Trade Shows and Exhibitions', 'Index']\n"
     ]
    }
   ],
   "source": [
    "#Print if you want \n",
    "# print(text_list)"
   ]
  },
  {
   "cell_type": "markdown",
   "id": "fb7936a8",
   "metadata": {},
   "source": [
    "Pick the right Chapter "
   ]
  },
  {
   "cell_type": "code",
   "execution_count": 4,
   "id": "b6d74de8",
   "metadata": {},
   "outputs": [],
   "source": [
    "for text in text_list:\n",
    "    if \"Energy\" in text:\n",
    "        right_text = text\n",
    "        break"
   ]
  },
  {
   "cell_type": "markdown",
   "id": "8ee93f90",
   "metadata": {},
   "source": [
    "Find the link for appropriate Chapter"
   ]
  },
  {
   "cell_type": "code",
   "execution_count": 6,
   "id": "29e35fdb",
   "metadata": {},
   "outputs": [
    {
     "ename": "SyntaxError",
     "evalue": "unexpected EOF while parsing (<ipython-input-6-32daeebd618e>, line 22)",
     "output_type": "error",
     "traceback": [
      "\u001b[1;36m  File \u001b[1;32m\"<ipython-input-6-32daeebd618e>\"\u001b[1;36m, line \u001b[1;32m22\u001b[0m\n\u001b[1;33m    #     driver.quit()\u001b[0m\n\u001b[1;37m                       ^\u001b[0m\n\u001b[1;31mSyntaxError\u001b[0m\u001b[1;31m:\u001b[0m unexpected EOF while parsing\n"
     ]
    }
   ],
   "source": [
    "driver = webdriver.Chrome()\n",
    "\n",
    "try:\n",
    "    # Navigate to the page\n",
    "    driver.get(\"https://codes.iccsafe.org/content/WAFC2021P1?p=/content/WAFC2021P1/\")\n",
    "\n",
    "    # Wait until the <a> element with the specific text is present and clickable\n",
    "    wait = WebDriverWait(driver, 10)\n",
    "    chapter_link = wait.until(EC.element_to_be_clickable((By.LINK_TEXT, right_text)))\n",
    "\n",
    "    # Click the link\n",
    "    chapter_link.click()\n",
    "\n",
    "    # Wait for the new page to load\n",
    "    time.sleep(3)  # Adjust this if necessary depending on page load time\n",
    "\n",
    "    # Save the current URL after clicking the link\n",
    "    current_url = driver.current_url\n",
    "\n",
    "finally:\n",
    "    # Close the driver\n",
    "    driver.quit()"
   ]
  },
  {
   "cell_type": "code",
   "execution_count": null,
   "id": "5d1d9838",
   "metadata": {},
   "outputs": [],
   "source": [
    "#Print if you want \n",
    "# print(\"URL after clicking the link:\", current_url)"
   ]
  },
  {
   "cell_type": "markdown",
   "id": "c53c316c",
   "metadata": {},
   "source": [
    "Get the text "
   ]
  },
  {
   "cell_type": "code",
   "execution_count": null,
   "id": "49d7db3b",
   "metadata": {},
   "outputs": [],
   "source": [
    "# Initialize WebDriver (Chrome in this example)\n",
    "driver = webdriver.Chrome()  # Replace with the path to your ChromeDriver\n",
    "\n",
    "try:\n",
    "    # Navigate to the URL\n",
    "    driver.get(current_url)\n",
    "    \n",
    "    # Wait for the specific section to load by targeting its ID\n",
    "    section = WebDriverWait(driver, 20).until(\n",
    "        EC.presence_of_element_located((By.ID, \"WAFC2021P1_Pt03_Ch12_Sec1205\"))\n",
    "    )\n",
    "    \n",
    "    # Extract the text from the section\n",
    "    section_text = section.text\n",
    "    \n",
    "finally:\n",
    "    # Close the driver\n",
    "    driver.quit()"
   ]
  },
  {
   "cell_type": "code",
   "execution_count": null,
   "id": "155b93fe",
   "metadata": {},
   "outputs": [],
   "source": [
    "# Print the text (or save it as needed)\n",
    "print(section_text)"
   ]
  },
  {
   "cell_type": "code",
   "execution_count": null,
   "id": "334882c1",
   "metadata": {},
   "outputs": [],
   "source": []
  },
  {
   "cell_type": "code",
   "execution_count": null,
   "id": "f5660472",
   "metadata": {},
   "outputs": [],
   "source": []
  }
 ],
 "metadata": {
  "kernelspec": {
   "display_name": "Python 3",
   "language": "python",
   "name": "python3"
  },
  "language_info": {
   "codemirror_mode": {
    "name": "ipython",
    "version": 3
   },
   "file_extension": ".py",
   "mimetype": "text/x-python",
   "name": "python",
   "nbconvert_exporter": "python",
   "pygments_lexer": "ipython3",
   "version": "3.8.8"
  }
 },
 "nbformat": 4,
 "nbformat_minor": 5
}
